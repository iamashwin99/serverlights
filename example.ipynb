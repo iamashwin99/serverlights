{
 "cells": [
  {
   "cell_type": "code",
   "execution_count": 1,
   "metadata": {},
   "outputs": [],
   "source": [
    "from dali_client import Client"
   ]
  },
  {
   "cell_type": "code",
   "execution_count": 2,
   "metadata": {},
   "outputs": [],
   "source": [
    "client = Client(base_url=\"http://mpsd-dali2-controller.desy.de/\")"
   ]
  },
  {
   "cell_type": "markdown",
   "metadata": {},
   "source": [
    "# Example to set all to blue color"
   ]
  },
  {
   "cell_type": "code",
   "execution_count": 3,
   "metadata": {},
   "outputs": [],
   "source": [
    "from dali_client.api.control import control_device_device_id_control_post\n",
    "from dali_client.models.control_data import ControlData\n",
    "from dali_client.models.color_rgb_data import ColorRGBData"
   ]
  },
  {
   "cell_type": "code",
   "execution_count": 34,
   "metadata": {},
   "outputs": [],
   "source": [
    "blue_colour = ControlData(\n",
    "    switchable=True,\n",
    "    dimmable=50,\n",
    "    color_rgb=ColorRGBData(r=0, g=0.2, b=1)\n",
    ")"
   ]
  },
  {
   "cell_type": "code",
   "execution_count": 44,
   "metadata": {},
   "outputs": [],
   "source": [
    "blue_colour = ControlData(\n",
    "    switchable=True,\n",
    "    dimmable=50,\n",
    "    color_rgb=ColorRGBData(r=0, g=0, b=1)\n",
    ")"
   ]
  },
  {
   "cell_type": "code",
   "execution_count": 45,
   "metadata": {},
   "outputs": [],
   "source": [
    "for i in range(18):\n",
    "    control_device_device_id_control_post.sync(field_id= i, client=client,body=blue_colour)"
   ]
  },
  {
   "cell_type": "markdown",
   "metadata": {},
   "source": [
    "# Example to set them to cool blue color.\n",
    "\n"
   ]
  },
  {
   "cell_type": "code",
   "execution_count": 21,
   "metadata": {},
   "outputs": [],
   "source": [
    "from dali_client.api.control import control_device_device_id_control_post\n",
    "from dali_client.models.control_data import ControlData\n",
    "from dali_client.models.color_xy_with_fade_data import ColorXYWithFadeData\n",
    "from dali_client.models.color_xy_data import ColorXYData"
   ]
  },
  {
   "cell_type": "code",
   "execution_count": 22,
   "metadata": {},
   "outputs": [],
   "source": [
    "cool_colour =  ControlData(\n",
    "    switchable=True,\n",
    "    dimmable=50,\n",
    "    color_xy_with_fade=ColorXYWithFadeData(fade_time=1, color=ColorXYData(x=0.432, y=0.25))\n",
    ")"
   ]
  },
  {
   "cell_type": "code",
   "execution_count": 23,
   "metadata": {},
   "outputs": [],
   "source": [
    "for i in range(10):\n",
    "    control_device_device_id_control_post.sync(field_id= i, client=client,body=cool_colour)"
   ]
  },
  {
   "cell_type": "markdown",
   "metadata": {},
   "source": [
    "# All one colour"
   ]
  },
  {
   "cell_type": "code",
   "execution_count": 25,
   "metadata": {},
   "outputs": [],
   "source": [
    "from dali_client.api.control import control_device_device_id_control_post\n",
    "from dali_client.models.control_data import ControlData\n",
    "from dali_client.models.color_rgb_data import ColorRGBData"
   ]
  },
  {
   "cell_type": "code",
   "execution_count": 27,
   "metadata": {},
   "outputs": [],
   "source": [
    "for i in range(18):\n",
    "    control_device_device_id_control_post.sync(\n",
    "        field_id=i,\n",
    "        client=client,\n",
    "        body=ControlData(\n",
    "            switchable=True, dimmable=50, color_rgb=ColorRGBData(r=0, g=1, b=0)\n",
    "        ),\n",
    "    )"
   ]
  },
  {
   "cell_type": "markdown",
   "metadata": {},
   "source": [
    "# All one colour with fade"
   ]
  },
  {
   "cell_type": "code",
   "execution_count": 6,
   "metadata": {},
   "outputs": [],
   "source": [
    "from dali_client.api.control import control_device_device_id_control_post\n",
    "from dali_client.models.control_data import ControlData\n",
    "from dali_client.models.color_rgb_with_fade_data import ColorRGBWithFadeData\n",
    "from dali_client.models.color_rgb_data import ColorRGBData"
   ]
  },
  {
   "cell_type": "code",
   "execution_count": 10,
   "metadata": {},
   "outputs": [],
   "source": [
    "for i in range(10):\n",
    "    control_device_device_id_control_post.sync(\n",
    "        field_id=i,\n",
    "        client=client,\n",
    "        body=ControlData(\n",
    "            switchable=True, dimmable=50, color_rgb_with_fade=ColorRGBWithFadeData(fade_time=0.2,color=ColorRGBData(r=0.60,g=0.60,b=0))\n",
    "        ),\n",
    "    )"
   ]
  },
  {
   "cell_type": "markdown",
   "metadata": {},
   "source": [
    "# Random colours"
   ]
  },
  {
   "cell_type": "code",
   "execution_count": null,
   "metadata": {},
   "outputs": [],
   "source": [
    "from dali_client.api.control import control_device_device_id_control_post\n",
    "from dali_client.models.control_data import ControlData\n",
    "from dali_client.models.color_rgb_data import ColorRGBData\n",
    "from random import random as ra"
   ]
  },
  {
   "cell_type": "code",
   "execution_count": null,
   "metadata": {},
   "outputs": [],
   "source": [
    "for i in range(18):\n",
    "    control_device_device_id_control_post.sync(\n",
    "        field_id=i,\n",
    "        client=client,\n",
    "        body=ControlData(\n",
    "            switchable=True, dimmable=50, color_rgb=ColorRGBData(r=ra(), g=ra(), b=ra())\n",
    "        ),\n",
    "    )"
   ]
  },
  {
   "cell_type": "markdown",
   "metadata": {},
   "source": [
    "# One rack with RGB"
   ]
  },
  {
   "cell_type": "code",
   "execution_count": 4,
   "metadata": {},
   "outputs": [],
   "source": [
    "from dali_client.api.control import control_device_device_id_control_post\n",
    "from dali_client.models.control_data import ControlData\n",
    "from dali_client.models.color_rgb_data import ColorRGBData"
   ]
  },
  {
   "cell_type": "code",
   "execution_count": 5,
   "metadata": {},
   "outputs": [],
   "source": [
    "control_device_device_id_control_post.sync(\n",
    "    field_id=8,\n",
    "    client=client,\n",
    "    body=ControlData(\n",
    "        switchable=True, dimmable=100, color_rgb=ColorRGBData(r=0, g=255, b=0)\n",
    "    ),\n",
    ")"
   ]
  },
  {
   "cell_type": "markdown",
   "metadata": {},
   "source": [
    "# Loop with XY"
   ]
  },
  {
   "cell_type": "code",
   "execution_count": 11,
   "metadata": {},
   "outputs": [],
   "source": [
    "from dali_client.api.control import control_device_device_id_control_post\n",
    "from dali_client.models.control_data import ControlData\n",
    "from dali_client.models.color_xy_with_fade_data import ColorXYWithFadeData\n",
    "from dali_client.models.color_xy_data import ColorXYData"
   ]
  },
  {
   "cell_type": "code",
   "execution_count": null,
   "metadata": {},
   "outputs": [],
   "source": [
    "for i in range(0,30,1):\n",
    "    control_device_device_id_control_post.sync(\n",
    "        field_id=i,\n",
    "        client=client,\n",
    "        body=ControlData(\n",
    "            switchable=True, dimmable=50,color_rgb=ColorRGBData(r=0/255,g=25/255,b=255/255)\n",
    "        ),\n",
    "    )"
   ]
  },
  {
   "cell_type": "code",
   "execution_count": null,
   "metadata": {},
   "outputs": [],
   "source": []
  }
 ],
 "metadata": {
  "kernelspec": {
   "display_name": "Python 3",
   "language": "python",
   "name": "python3"
  },
  "language_info": {
   "codemirror_mode": {
    "name": "ipython",
    "version": 3
   },
   "file_extension": ".py",
   "mimetype": "text/x-python",
   "name": "python",
   "nbconvert_exporter": "python",
   "pygments_lexer": "ipython3",
   "version": "3.11.7"
  }
 },
 "nbformat": 4,
 "nbformat_minor": 2
}
